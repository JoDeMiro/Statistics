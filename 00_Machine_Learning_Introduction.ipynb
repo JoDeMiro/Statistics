{
  "nbformat": 4,
  "nbformat_minor": 0,
  "metadata": {
    "colab": {
      "name": "00 - Machine Learning Introduction.ipynb",
      "provenance": [],
      "collapsed_sections": [],
      "authorship_tag": "ABX9TyMIYDIoRiwcxoXd/CFrBrjt",
      "include_colab_link": true
    },
    "kernelspec": {
      "name": "python3",
      "display_name": "Python 3"
    },
    "language_info": {
      "name": "python"
    }
  },
  "cells": [
    {
      "cell_type": "markdown",
      "metadata": {
        "id": "view-in-github",
        "colab_type": "text"
      },
      "source": [
        "<a href=\"https://colab.research.google.com/github/JoDeMiro/Statistics/blob/main/00_Machine_Learning_Introduction.ipynb\" target=\"_parent\"><img src=\"https://colab.research.google.com/assets/colab-badge.svg\" alt=\"Open In Colab\"/></a>"
      ]
    },
    {
      "cell_type": "markdown",
      "metadata": {
        "id": "Bol87-qWMnUD"
      },
      "source": [
        "# Machine Learning - Introduction\n",
        "\n",
        "What is Machine Learning? Concepts & Examples\n",
        "\n",
        "Machine learning is a machine’s ability to learn from data. It has been around for decades, but machine learning is now being applied in nearly every industry and job function.\n",
        "\n",
        "## Content\n",
        "\n",
        "[related work](http://aa)\n",
        "[furhter examples](#furhter)\n",
        "[lecutres](http://aa)\n",
        "[about me](http://aa)\n"
      ]
    },
    {
      "cell_type": "markdown",
      "metadata": {
        "id": "0iEUffPKBpwK"
      },
      "source": [
        "### What is machine learning?\n",
        "\n",
        "Simply speaking, machine learning is a technology where in machine learns to perform a prediction/estimation task based on past experience represented by historical data set.\n",
        "\n",
        "Mathematically speaking, machine learning is about approximating mathematical functions (equations) representing real-world scenarios. These mathematical functions are also referred to as “mathematical models” or just models. Thus, machine learning models are mathematical equations/functions that represent real world problems/scenarios. The reason why machine learning models are called function approximations because it will be extremely difficult to find exact function which can be used to predict or estimate real world scenarios.\n",
        "\n",
        "### How do we come up with the approximate functions or machine learning models?\n",
        "\n",
        "There are six key components of a machine learning model.\n",
        "\n",
        "- **Mathematical model/function (approximation):** These are the actual functions which are learned from the data. Examples of machine learning functions or models are simple linear equation or multi-linear equation.\n",
        "Output variable: This is also called as dependent variable or response variable. This is the variable we want machine learning model to predict or estimate.\n",
        "\n",
        "- **Input variables/features:** These represent the input data that you feed into machine learning models or mathematical equations in order for it to learn the parameters/coefficients (third aspect) and make predictions about your output: dependent variable. These variables are also called independent variables or predictor variables. These are also called as features.\n",
        "\n",
        "- **Parameters/coefficients:** These are the coefficients of mathematical equations (models) that machine learning algorithm will learn based on the historical data and the loss or cost function.\n",
        "\n",
        "- **Hyperparameters:** Hyperparameters are different from the parameters. Hyperparameters are the machine learning model’s initial configuration or setting that you need to determine before training machine learning models. These are parameters which are used with loss function or cost function during training for estimating the parameters discussed in the earlier point. You will use hyperparameters as input for loss function which will return a set of machine learning parameters/coefficients with different values based on your chosen hyperparameter settings.\n",
        "\n",
        "- **Loss or cost or objective function:** The loss function is a way of measuring how accurate machine learning model’s predictions are. The loss function takes in machine learning parameters/coefficients and the predicted output variable, compares them with actual value (training data) for that particular set of machine learning parameter settings, then returns a number which is used to adjust or update machine learning parameters so that final outcome of machine learning model will be more accurate. Loss function measures the loss for every prediction – how far the prediction is from actual value. Loss function is also called as cost or objective function. The idea is to minimize the loss or the objective function. In another words, the optimization of objective function results in selection of most appropriate parameters and hyperparameters of machine learning models.\n",
        "\n",
        "> Based on the above, one can note that there are two functions involved in machine learning. One is function (approximation) representing machine learning model and the other is an objective function which needs to be optimized. While optimizing the objective function, the parameters and hyperparameters are learned."
      ]
    },
    {
      "cell_type": "markdown",
      "metadata": {
        "id": "F061v9YbQZcA"
      },
      "source": [
        "### What are some simple examples of machine learning model?\n",
        "\n",
        "The following are some of the examples of machine learning models or function approximations:\n",
        "\n",
        "$Y = mX + b$: This is a simple linear regression model/equation which is used too predict/estimate the value of Y for a given value of variable X. In this model, we will need a loss function or cost or objective function to determine the value of the parameter, m and b. The loss function popularly used is called as mean square loss. What is needed is data to use loss function to estimate the paremeters.\n",
        "\n",
        "$Y = \\beta_1*X1 + \\beta_2*X2 + \\beta_3*X3 + b$: This is a multi-linear regression model. Here, X1, X2 and X3 are independent or predictor variable, Y is response or dependent variable and b is bias.\n",
        "\n",
        "$Y = \\beta_1X1*sin(X1) + \\beta_2X2$: You may note that this looks to be a non-linear regression model.\n",
        "\n",
        "### What are different kind of machine learning tasks?\n",
        "\n",
        "- **Supervised learning**: Supervised learning is machine learning task where we have data with both inputs and correct labels/answers/output. We also know the correctness of answers based on labels or tags attached to them during training phase. For example, you can take a set of images tagged as “cat”. You train machine learning algorithm with these cat pictures so that machine learning model learns how to distinguish if an image is a cat or not.\n",
        "\n",
        "- **Unsupervised Learning**: Unsupervised machine learning is machine learning task where we don’t have data with correct answers/labels and input variables also contain incorrect/noisy values during training phase. For example, if you take images of people without their labels attached to them for machine learning model to learn from them so that machine learning model can correctly classify images of people when machine learns from data with incorrect labels.\n",
        "\n",
        "- **Reinforcement Learning**: Reinforcement machine learning is machine learning task where machine learn how to act in different scenarios by receiving rewards or punishment for its actions. The reward function determines if an action taken was correct and the punishment function tells whether that action will result in loss.\n",
        "\n",
        "- **Semi-supervised learning**: Semi-supervised learning tasks are machine learning task where data has both labelled and unlabelled examples. Semi-supervised machine learning helps us in obtaining labels for example, images which are not labeled yet or have incorrect/inconsistent tags.\n",
        "\n",
        "- **Self-supervised learning**: In case of self-supervised machine learning tasks, data does not have any correct/incorrect labels. In other words, input variables are random or a subset of all possible inputs to machine learning model and the model learns to create its own labels from from noisy data."
      ]
    },
    {
      "cell_type": "markdown",
      "metadata": {
        "id": "BlAFufeDWi53"
      },
      "source": [
        "### How is machine learning related to deep learning, AI and data science?\n",
        "\n",
        "AI is a much broader field that includes machine learning. Machine Learning can be called as a subset in Artificial Intelligence which deals specifically with using algorithms that can learn from data without being explicitly programmed. Deep learning can be called as subset of machine learning which deals with algorithms that can learn from data using many hidden layers in the model. Complex problems related to image classifications, machine translations, natural language processing tasks etc. can be solved using deep learning algorithms.\n",
        "\n",
        "Data science is a field which includes machine learning/deep learning, statistics and computer programming so data scientists are people who apply machine learning algorithms on large datasets to create useful products from the data like predictive models etc.\n",
        "\n",
        "### Do I need to know programming languages to implement machine learning?\n",
        "\n",
        "Answer is Yes and No. If you are a data scientist who is very familiar with programming, you could use programming languages like Python, R or Julia to implement machine learning algorithms. However, product managers and/or machine learning engineers usually use tools and libraries which can be used without programming languages so they don’t need to be familiar with programming language data scientists use for implementation of machine learning models.\n",
        "\n",
        "There are various cloud services which have machine learning algorithms implemented in them so you don’t need to know how they are working internally. Some machine learning tools and libraries include TensorFlow, scikit-learn etc. These machine learning tools can be used with programming languages or without knowing any language making it easy for product managers/machine Learning engineers who want to create predictive models. You might want to check services such as Google cloud bigquery ML which makes it so easy to train the model.\n",
        "\n",
        "The following are different popular cloud services which provide machine learning algorithms implemented in them so you don’t need to know how machine learning models are working internally.\n",
        "\n",
        "- <a href=\"https://cloud.google.com/products/ai\">Google Cloud ML services</a>\n",
        "- <a href=\"https://aws.amazon.com/machine-learning/\">Amazon Machine Learning services</a>\n",
        "- <a href=\"https://studio.azureml.net/\">Azure ML services</a>"
      ]
    },
    {
      "cell_type": "markdown",
      "metadata": {
        "id": "-ggcOQexChd-"
      },
      "source": [
        "### Related\n",
        "\n",
        "<a href=\"https://towardsdatascience.com/write-markdown-latex-in-the-jupyter-notebook-10985edb91fd\">Latex Jupyter Notebook</a>\n",
        "\n",
        "<a href=\"https://vitalflux.com/what-is-machine-learning-concepts-examples\">Articles</a>\n",
        "\n",
        "\n",
        "\n"
      ]
    },
    {
      "cell_type": "code",
      "metadata": {
        "id": "IOGDNGzDyovj"
      },
      "source": [
        ""
      ],
      "execution_count": 2,
      "outputs": []
    }
  ]
}