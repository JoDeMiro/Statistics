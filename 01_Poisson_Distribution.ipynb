{
  "nbformat": 4,
  "nbformat_minor": 0,
  "metadata": {
    "colab": {
      "name": "01- Poisson Distribution.ipynb",
      "provenance": [],
      "collapsed_sections": [],
      "authorship_tag": "ABX9TyM4+L33xcp86SP0w6neHngB",
      "include_colab_link": true
    },
    "kernelspec": {
      "name": "python3",
      "display_name": "Python 3"
    },
    "language_info": {
      "name": "python"
    }
  },
  "cells": [
    {
      "cell_type": "markdown",
      "metadata": {
        "id": "view-in-github",
        "colab_type": "text"
      },
      "source": [
        "<a href=\"https://colab.research.google.com/github/JoDeMiro/Statistics/blob/main/01_Poisson_Distribution.ipynb\" target=\"_parent\"><img src=\"https://colab.research.google.com/assets/colab-badge.svg\" alt=\"Open In Colab\"/></a>"
      ]
    },
    {
      "cell_type": "markdown",
      "metadata": {
        "id": "Bol87-qWMnUD"
      },
      "source": [
        "# Poisson Distribution Explained with Python Examples\n",
        "\n",
        "Poisson distribution is a probability distribution that can be used to model the number of events in a fixed interval. It is often referred to as “random poisson process” or “poisson process”. The poisson distribution describes how many occurrences of an event occur within a given time frame, for example, how many customers visit your store or restaurant every hour.\n",
        "\n",
        "\n",
        "## Content\n",
        "\n",
        "[related work](http://aa)\n",
        "[furhter examples](#furhter)\n",
        "[lecutres](http://aa)\n",
        "[about me](http://aa)\n"
      ]
    },
    {
      "cell_type": "markdown",
      "metadata": {
        "id": "O_ZhPZsaRE1i"
      },
      "source": [
        "### What is Poisson distribution?\n",
        "\n",
        "Poisson distribution is the discrete probability distribution which represents the probability of occurrence of an event r number of times in a given interval of time or space if these events occur with a known constant mean rate and are independent of each other. This type of probability is used in many cases where events occur randomly, but with a known average rate. The number of events that happen during an interval is dependent on the time elapsed rather than the total time available. The Poisson distribution can be applied to time-sensitive processes such as text messages sent per minute and phone calls received per second. Poisson distribution can help us determine how often we may expect an “event” such as finding customers in line or the number of accidents that occur per hour.\n",
        "\n",
        "The following are the key criteria that the random variable follows the Poisson distribution.\n",
        "\n",
        "- Individual events occur at random and independently in a given interval. This can be an interval of time or space.\n",
        "\n",
        "- The mean number of occurrences of events in an interval (time or space) is finite and known. The mean number of occurrences is represented using $\\lambda$\n",
        "\n",
        "The random variable X represents the number of times that the event occurs in the given interval of time or space. If a random variable X follows Poisson distribution, it is represented as the following:\n",
        "\n",
        "$X \\sim P(\\lambda)$\n",
        "\n",
        "$a \\approx b$\n",
        "\n",
        "In the above expression, $\\lambda$ represents the mean number of occurrences in a given interval. Mathematically, the Poisson probability distribution can be represented using the following **probability mass function:**\n",
        "\n",
        "$$P(X = k) = \\frac{e^{-\\lambda} * \\lambda^{r}}{r!}$$\n",
        "\n",
        "In the above formula, the $\\lambda$ represents the mean number of occurrences, r represents different values of random variable $X$.\n",
        "\n",
        "$E(X) = \\lambda$\n",
        "\n",
        "$Var(X) = \\lambda$"
      ]
    },
    {
      "cell_type": "markdown",
      "metadata": {
        "id": "AGLyxl3Ym6zV"
      },
      "source": [
        "### Poisson Distribution Explained with Real-world examples\n",
        "\n",
        "- **Poisson distribution for Space interval:** Let’s say that you are out on a long drive. The rate of occurrences of good restaurants in a range of 10 miles (or km) is 2. In other words, the mean number of occurrences of restaurants in a range of 10 KM or miles is 2. What is the probability that 0, 1, 2, 3, 4, or 5 restaurants will occur in the next 10 km.\n",
        "\n",
        "Here is how the **Python code** will look like, along with the plot for the Poisson probability distribution modeling the probability of the different number of restaurants ranging from 0 to 5 that one could find within 10 KM given the mean number of occurrences of the restaurant in 10 KM is 2. Scipy.stats Poisson class is used along with pmf method to calculate the value of probabilities.\n",
        "\n",
        "Here is how the plot representing the Poisson probability distribution of number of restaurants occurring in the range of 10 kms would look like:"
      ]
    },
    {
      "cell_type": "code",
      "metadata": {
        "id": "_qLD6faUJR08",
        "colab": {
          "base_uri": "https://localhost:8080/",
          "height": 416
        },
        "outputId": "786528d9-a335-4b50-e6fb-79a49957149d"
      },
      "source": [
        "\n",
        "from scipy.stats import poisson\n",
        "import matplotlib.pyplot as plt\n",
        "\n",
        "# Random variable representing number of restaurants\n",
        "# Mean number of occurences of restaurants in 10 KM is 2\n",
        "\n",
        "X = [0, 1, 2, 3, 4, 5]\n",
        "lambda_ = 2\n",
        "\n",
        "# Probability values\n",
        "\n",
        "poisson_pd = poisson.pmf(X, lambda_)\n",
        "\n",
        "# Plot the probability distribution\n",
        "\n",
        "fig, ax = plt.subplots(1, 1, figsize=(8, 6))\n",
        "ax.plot(X, poisson_pd, 'bo', ms=8, label='poisson pmf')\n",
        "plt.ylabel(\"Probability\", fontsize=\"18\")\n",
        "plt.xlabel(\"X - No. of Restaurants\", fontsize=\"18\")\n",
        "plt.title(\"Poisson Distribution - No. of Restaurants Vs Probability\", fontsize=\"18\")\n",
        "ax.vlines(X, 0, poisson_pd, colors='b', lw=5, alpha=0.5)\n",
        "plt.show()\n",
        "\n"
      ],
      "execution_count": 5,
      "outputs": [
        {
          "output_type": "display_data",
          "data": {
            "image/png": "[encoded data removed]",
            "text/plain": [
              "<Figure size 576x432 with 1 Axes>"
            ]
          },
          "metadata": {
            "needs_background": "light"
          }
        }
      ]
    },
    {
      "cell_type": "markdown",
      "metadata": {
        "id": "NhCy4712iEQ4"
      },
      "source": [
        "- **Poisson distribution for Time interval:** Let’s say that the number of buses that come on a bus stop in span of 30 minutes is 1. Poisson distribution can be used to model the probability of different number of buses, X, coming to the bus stop within the next 30 minutes where X can take value of 0, 1, 2, 3, 4."
      ]
    },
    {
      "cell_type": "code",
      "metadata": {
        "colab": {
          "base_uri": "https://localhost:8080/",
          "height": 416
        },
        "id": "9nZ0JT0niLvb",
        "outputId": "42ecf8a8-9585-421d-98aa-929621431c20"
      },
      "source": [
        "from scipy.stats import poisson\n",
        "import matplotlib.pyplot as plt\n",
        "\n",
        "# Random variable representing number of buses\n",
        "# Mean number of buses coming to bus stop in 30 minutes is 1\n",
        "\n",
        "X = [0, 1, 2, 3, 4]\n",
        "lambda_ = 1\n",
        "\n",
        "# Probability values\n",
        "\n",
        "poisson_pd = poisson.pmf(X, lambda_)\n",
        "\n",
        "# Plot the probability distribution\n",
        "\n",
        "fig, ax = plt.subplots(1, 1, figsize=(8, 6))\n",
        "ax.plot(X, poisson_pd, 'bo', ms=8, label='poisson pmf')\n",
        "plt.ylabel(\"Probability\", fontsize=\"18\")\n",
        "plt.xlabel(\"X - No. of Buses\", fontsize=\"18\")\n",
        "plt.title(\"Poisson Distribution - No. of Buses Vs Probability\", fontsize=\"18\")\n",
        "ax.vlines(X, 0, poisson_pd, colors='b', lw=5, alpha=0.5)\n",
        "plt.show()"
      ],
      "execution_count": 4,
      "outputs": [
        {
          "output_type": "display_data",
          "data": {
            "image/png": "[encoded data removed]",
            "text/plain": [
              "<Figure size 576x432 with 1 Axes>"
            ]
          },
          "metadata": {
            "needs_background": "light"
          }
        }
      ]
    },
    {
      "cell_type": "markdown",
      "metadata": {
        "id": "obcRyf76icgF"
      },
      "source": [
        "### Here are few other examples of Poisson distribution.\n",
        "\n",
        "**The number of customers visiting the supermarket:** In a supermarket, how many customers visit the store per day is an example of Poisson distribution. If the average number of customers visiting a supermarket on weekdays is 50, then knowing this information can help the store managers decide how many staff members are needed for serving the customers.\n",
        "\n",
        "**The number of phone calls in the call center:** The number of phone calls received by a call center in one day can be considered as an example of a Poisson distributed random variable. In this case, it will help to determine whether or not there are any irregularities that need immediate attention from managers.\n",
        "\n",
        "> Behúzott szöveg\n",
        "\n",
        "\n",
        "\n",
        "**The number of defective items produced by a factory:** The number of defective goods that are made in one production run can be considered as an example of Poisson distribution. This is important for quality control purposes to ensure that customers are getting the right kind and quantity of products they pay for. If the average number of defective items produced by the factory per day is ten, then this information can be used to determine how many inspectors are needed for checking these goods or if there needs to be an increase in production capacity.\n",
        "\n",
        "**The total rainfall received at a particular place during summer:** The Poisson distribution helps us model the amount of rain that falls on a particular area during the summer. If the average total rainfall received by a place in summers is 100mm, then knowing this information can help people plan for more water storage facilities or rainwater harvesting systems to avoid inconveniences of water scarcity.\n",
        "\n",
        "**The number of phone calls that are made on an online chat service:** The number of phone calls made using an online chat service in one hour can be considered as an example of a Poisson distributed random variable. In this case, it will help to determine whether or not there are any irregularities that need immediate attention from managers.\n",
        "\n",
        "**The number of students enrolling for a particular course offered by the college:** The number of students who register for a certain class at a college can be considered as an example of Poisson distribution. This information is helpful to determine the number of teaching staff required for each class and other facilities like classrooms, computers, etc that are needed.\n",
        "\n",
        "**The number of accidents on a particular route per day:** The number of car accidents that occur on expressways or highways per day can be considered as an example of Poisson distribution. This is because the number of accidents is unpredictable and random in nature. If the average rate at which they occur is five, then knowing this information can help determine if there are any dangerous curves or other factors that contribute to these accidents and need immediate attention from road engineers.\n",
        "\n",
        "**The number of angry customers at a bank:** The number of frustrated customers who show up at banks to lodge complaints or raise their concerns about specific issues should also follow the Poisson distribution pattern. This is because the number of angry customers who come and go on a daily basis depends largely on factors such as weather, traffic condition, etc.\n",
        "\n",
        "\n"
      ]
    },
    {
      "cell_type": "markdown",
      "metadata": {
        "id": "IFawdalzi9dV"
      },
      "source": [
        "### Conclusion\n",
        "\n",
        "Here is the summary of what you learned in this post in relation to Poisson probability distribution:\n",
        "\n",
        "1. Poisson distribution is a discrete probability distribution.\n",
        "\n",
        "2. The probability of occurrences of an event within an interval (time or space) is measured using Poisson distribution given that the individual events are independent of each other and the mean number of occurrences of the event in the interval is finite.\n",
        "\n",
        "3. The expectation and variance of the random variable following Poisson distribution is the same as the mean number of occurrences of an event in the given interval (time or space)"
      ]
    },
    {
      "cell_type": "markdown",
      "metadata": {
        "id": "Hl_qae5gNfTJ"
      },
      "source": [
        "<a name=\"furhter\"></a>\n",
        "\n",
        "## Further Examples\n",
        "\n",
        "https://vitalflux.com/autoregressive-ar-models-with-python-examples\n",
        "\n"
      ]
    }
  ]
}