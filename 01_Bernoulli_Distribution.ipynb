{
  "nbformat": 4,
  "nbformat_minor": 0,
  "metadata": {
    "colab": {
      "name": "01- Bernoulli Distribution.ipynb",
      "provenance": [],
      "collapsed_sections": [],
      "authorship_tag": "ABX9TyPWqFlnyHO9nTA3whoZnz93",
      "include_colab_link": true
    },
    "kernelspec": {
      "name": "python3",
      "display_name": "Python 3"
    },
    "language_info": {
      "name": "python"
    }
  },
  "cells": [
    {
      "cell_type": "markdown",
      "metadata": {
        "id": "view-in-github",
        "colab_type": "text"
      },
      "source": [
        "<a href=\"https://colab.research.google.com/github/JoDeMiro/Statistics/blob/main/01_Bernoulli_Distribution.ipynb\" target=\"_parent\"><img src=\"https://colab.research.google.com/assets/colab-badge.svg\" alt=\"Open In Colab\"/></a>"
      ]
    },
    {
      "cell_type": "markdown",
      "metadata": {
        "id": "Bol87-qWMnUD"
      },
      "source": [
        "# Bernoulli Distribution Explained with Examples\n",
        "\n",
        "Bernoulli distribution is a **discrete probability distribution** representing the discrete probabilities of a random variable which can take only one of the two possible values such as 1 or 0, yes or no, true or false etc. The probability of random variable taking value as 1 is p and value as 0 is (1-p). In Bernoulli distribution, the number of trials is only 1. The one trial representing Bernoulli distribution is also termed as **Bernoulli trial**. Bernoulli distribution is also considered as the **special case of binomial distribution** with n = 1 where n represents number of trials.\n",
        "\n",
        "\n",
        "## Content\n",
        "\n",
        "[related work](http://aa)\n",
        "[furhter examples](#furhter)\n",
        "[lecutres](http://aa)\n",
        "[about me](http://aa)\n"
      ]
    },
    {
      "cell_type": "markdown",
      "metadata": {
        "id": "O_ZhPZsaRE1i"
      },
      "source": [
        "### Here is a sample diagram that represents a Bernoulli Distribution with probability value, p = 0.7 for k = 1"
      ]
    },
    {
      "cell_type": "code",
      "metadata": {
        "colab": {
          "base_uri": "https://localhost:8080/",
          "height": 350
        },
        "id": "D_pc3nRdAZin",
        "outputId": "1e34cc39-c7b7-4075-9e0f-cebcf42f8c23"
      },
      "source": [
        "import numpy as np\n",
        "import matplotlib.pyplot as plt\n",
        "\n",
        "outcome = ('Head', 'Toss')\n",
        "y_pos = np.arange(len(outcome))\n",
        "performance = [0.3, 0.7]\n",
        "\n",
        "plt.figure(figsize=(5,5))\n",
        "plt.bar(y_pos, performance, align='center', alpha=1.0, color='orange')\n",
        "plt.xticks(y_pos, outcome)\n",
        "plt.xlabel('Values of Random Variable X(Head, Toss)')\n",
        "plt.ylabel('Probability')\n",
        "plt.title('Bernoulli Distribution (p = 0.7) for k = Toss')\n",
        "\n",
        "plt.show()"
      ],
      "execution_count": 7,
      "outputs": [
        {
          "output_type": "display_data",
          "data": {
            "image/png": "[encoded data removed]",
            "text/plain": [
              "<Figure size 360x360 with 1 Axes>"
            ]
          },
          "metadata": {
            "needs_background": "light"
          }
        }
      ]
    },
    {
      "cell_type": "markdown",
      "metadata": {
        "id": "0iEUffPKBpwK"
      },
      "source": [
        "Bernoulli trial is a random experiment whose outcome can only be one of the possible values such as success or failure. The outcome of Bernoulli trial is called as **Bernoulli random variable**. The outcome of interest is termed as success. Thus, for a Bernoulli trial of a coin toss, the outcome of interest is head. Thus, success is associated with head appearing after coin is tossed. The probability of getting success is p and failure is 1 – p. For a coin toss, the probability of getting head (or success) is 0.5. Thus, the probability of getting tail is 1 – 0.5 = 0.5.\n",
        "\n",
        "As the Bernoulli distribution is a discrete probability distribution, the probabilities of different value of random variable can be determined using the following **probability mass function (PMF)**:\n",
        "\n",
        "$$\n",
        "P(X = x) = \\left\\{\n",
        "    \\begin{array}\\\\\n",
        "          & \\mbox{ p for x = 1 } \\\\\n",
        "          & \\mbox{ 1-p for x = 0}\n",
        "    \\end{array}\n",
        "\\right.\n",
        "$$\n",
        "\n",
        "The **expected value** of the Bernoulli random variable is **$p$** which is also called as the **parameter of the Bernoulli distribution**. The variance of the values of Bernoulli random variable is **$p(1-p)$**.\n",
        "\n"
      ]
    },
    {
      "cell_type": "markdown",
      "metadata": {
        "id": "H_--ZtFWDV2v"
      },
      "source": [
        "### Bernoulli Distribution Real-world Examples\n",
        "\n",
        "Here are some real-world examples of Bernoulli distribution. Remember that all we need to look for is random experiment which could have only two possible outcomes as success or failure. The outcome of interest is denoted as success. It is important to define what is your experiment and what means success if the experiment is done.\n",
        "\n",
        "- Coin toss with only two possible outcomes – head or tail. Success = 1 if coin shows up head. X = {head, tail}\n",
        "- Rolling a die resulted in 6 or not. Success = 1 for die = 6\n",
        "- Whether a person voted for a particular political party or abstained from voting. Success = 1 if voted for a political party\n",
        "- Whether a student got more than 80 marks or not. Success = 1 if marks > 80\n",
        "- From a bag consisting of red, green and black ball, when a ball is taken out, whether the ball taken out has red color or not. Success = 1 if the color of ball taken out is red.\n",
        "- Whether the outcome of interview is recommendation for next round of interview or not. Success = 1 if the outcome of interview is recommendation to next round of interview.\n",
        "\n",
        "### Bernoulli Distribution Python Code Examples\n",
        "\n",
        "Here is the Python code representing the Bernoulli distribution and usage of probability mass function to create the bar plot. Pay attention to some of the following in the code below:\n",
        "\n",
        "- Python Scipy Bernoulli class is used to calculate probability mass function values\n",
        "- Instance of Bernoulli distribution with parameter p = 0.7\n",
        "- Outcome of experiment can take value as 0, 1. The values of Bernoulli random variable can take 0 or 1.\n",
        "- The usage of pmf function to determine the probability of different values of random variable"
      ]
    },
    {
      "cell_type": "code",
      "metadata": {
        "colab": {
          "base_uri": "https://localhost:8080/",
          "height": 465
        },
        "id": "DU0AJfMgBpXK",
        "outputId": "fcf26885-7929-4963-faf4-6fed50ea83ff"
      },
      "source": [
        "import matplotlib.pyplot as plt\n",
        "from scipy.stats import bernoulli\n",
        "\n",
        "# Instance of Bernoulli distribution with parameter p = 0.7\n",
        "\n",
        "bd = bernoulli(0.7)\n",
        "\n",
        "# Outcome of experiment can take value as 0, 1\n",
        "\n",
        "X = [0, 1]\n",
        "\n",
        "# Create a bar plot; Note the usage of \"pmf\" function\n",
        "# to determine the probability of different values of\n",
        "# random variable\n",
        "\n",
        "plt.figure(figsize=(7,7))\n",
        "plt.xlim(-1, 2)\n",
        "plt.bar(X, bd.pmf(X), color='orange')\n",
        "plt.title('Bernoulli Distribution (p=0.7)', fontsize='15')\n",
        "plt.xlabel('Values of Random Variable X (0, 1)', fontsize='15')\n",
        "plt.ylabel('Probability', fontsize='15')\n",
        "plt.show()"
      ],
      "execution_count": 8,
      "outputs": [
        {
          "output_type": "display_data",
          "data": {
            "image/png": "[encoded data removed]",
            "text/plain": [
              "<Figure size 504x504 with 1 Axes>"
            ]
          },
          "metadata": {
            "needs_background": "light"
          }
        }
      ]
    },
    {
      "cell_type": "markdown",
      "metadata": {
        "id": "djvkLqD9yppS"
      },
      "source": [
        "### Conclusions\n",
        "\n",
        "In this post, you learned about some of the following in relation to Bernoulli Distribution:\n",
        "\n",
        "- **Bernoulli distribution is discrete probability distribution** representing the probabilities of getting different / **discrete** values of the random variable. The random variable could take only two possible values such as success or failure. The random variable is also termed as **Bernoulli random variable**.\n",
        "- Bernoulli distribution represents the probabilities of two possible outcomes of a single random experiment\n",
        "- The single random experiment is termed as **Bernoulli trial**.\n",
        "- The mean or expected value of the Bernoulli distribution is p and variance is p(1-p)"
      ]
    },
    {
      "cell_type": "markdown",
      "metadata": {
        "id": "-ggcOQexChd-"
      },
      "source": [
        "### Related\n",
        "\n",
        "<a href=\"https://towardsdatascience.com/write-markdown-latex-in-the-jupyter-notebook-10985edb91fd\">Latex Jupyter Notebook</a>\n"
      ]
    },
    {
      "cell_type": "code",
      "metadata": {
        "id": "IOGDNGzDyovj"
      },
      "source": [
        ""
      ],
      "execution_count": null,
      "outputs": []
    }
  ]
}